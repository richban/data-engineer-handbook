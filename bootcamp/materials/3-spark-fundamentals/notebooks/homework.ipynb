{
 "cells": [
  {
   "cell_type": "code",
   "execution_count": null,
   "id": "96f1383b-a934-4c78-a856-8e0a269af843",
   "metadata": {
    "scrolled": true
   },
   "outputs": [],
   "source": [
    "import sys\n",
    "!{sys.executable} -m pip install -U isort --user\n",
    "!{sys.executable} -m pip install -U black --user"
   ]
  },
  {
   "cell_type": "code",
   "execution_count": 1,
   "id": "be0e842f-9d1a-4626-b892-5f12940ed7c1",
   "metadata": {},
   "outputs": [],
   "source": [
    "from pyspark.sql import SparkSession\n",
    "from pyspark import SparkConf\n",
    "from pyspark.sql.functions import expr, col, broadcast, avg, count, sum\n",
    "import os\n",
    "\n",
    "BASE_PATH = \"/home/iceberg/data\""
   ]
  },
  {
   "cell_type": "code",
   "execution_count": null,
   "id": "e9bf1504-84b3-42b7-812e-9db179d99262",
   "metadata": {},
   "outputs": [],
   "source": [
    "def create_spark_session():\n",
    "\n",
    "    conf = SparkConf()\n",
    "    conf.setAll([\n",
    "        (\"spark.driver.memory\", \"8g\"),\n",
    "        (\"spark.executor.memory\", \"8g\")\n",
    "    ])\n",
    "    \n",
    "    spark = SparkSession.builder \\\n",
    "        .config(conf=conf) \\\n",
    "        .appName(\"Spark-Iceberg-Homework\") \\\n",
    "        .getOrCreate()\n",
    "    \n",
    "    # Disable automatic broadcast join\n",
    "    spark.conf.set(\"spark.sql.autoBroadcastJoinThreshold\", \"-1\")\n",
    "    \n",
    "    return spark\n",
    "\n",
    "spark = create_spark_session()"
   ]
  },
  {
   "cell_type": "code",
   "execution_count": 3,
   "id": "f8d9e0ff-df9f-40d2-8376-d6c3e03555b0",
   "metadata": {},
   "outputs": [],
   "source": [
    "def load_data(spark, base_path=BASE_PATH):\n",
    "    # Load CSV files with error handling and schema inference\n",
    "    def safe_read_csv(filename):\n",
    "        try:\n",
    "            return spark.read.csv(f\"{base_path}/{filename}\", header=True, inferSchema=True)\n",
    "        except Exception as e:\n",
    "            print(f\"Error reading {filename}: {e}\")\n",
    "            return None\n",
    "\n",
    "    match_details = safe_read_csv(\"match_details.csv\")\n",
    "    matches = safe_read_csv(\"matches.csv\")\n",
    "    medal_matches_players = safe_read_csv(\"medals_matches_players.csv\")\n",
    "    medals = safe_read_csv(\"medals.csv\")\n",
    "    maps = safe_read_csv(\"maps.csv\")\n",
    "    \n",
    "    return match_details, matches, medal_matches_players, medals, maps\n"
   ]
  },
  {
   "cell_type": "code",
   "execution_count": null,
   "id": "0cd642b9-3897-4c47-8674-2043494f3bc0",
   "metadata": {},
   "outputs": [],
   "source": [
    "match_details, matches, medal_matches_players, medals, maps = load_data(spark)"
   ]
  },
  {
   "cell_type": "code",
   "execution_count": null,
   "id": "e1aacb51-3436-4d09-a4f1-e6b7effeaf2a",
   "metadata": {
    "scrolled": true
   },
   "outputs": [],
   "source": [
    "match_details.describe()\n",
    "matches.show()"
   ]
  },
  {
   "cell_type": "code",
   "execution_count": null,
   "id": "08488236-7574-4545-9e3a-163431a7079c",
   "metadata": {},
   "outputs": [],
   "source": [
    "\n",
    "def analyze_table_sizes(spark, base_path=\"/home/iceberg/data/\"):\n",
    "    # List of CSV files to analyze\n",
    "    csv_files = [\n",
    "        \"match_details.csv\",\n",
    "        \"matches.csv\", \n",
    "        \"medals.csv\",\n",
    "        \"medals_matches_players.csv\",\n",
    "    ]\n",
    "    \n",
    "    print(\"Table Size and Row Count Analysis:\")\n",
    "    print(\"-\" * 50)\n",
    "    \n",
    "    for filename in csv_files:\n",
    "        full_path = os.path.join(base_path, filename)\n",
    "        \n",
    "        try:\n",
    "            # Read the CSV file\n",
    "            df = spark.read.csv(full_path, header=True, inferSchema=True)\n",
    "            \n",
    "            # Calculate file size\n",
    "            file_size_mb = os.path.getsize(full_path) / (1024 * 1024)\n",
    "            \n",
    "            # Count rows\n",
    "            row_count = df.count()\n",
    "            \n",
    "            # Get column names and count\n",
    "            columns = df.columns\n",
    "            \n",
    "            print(f\"File: {filename}\")\n",
    "            print(f\"  Size: {file_size_mb:.2f} MB\")\n",
    "            print(f\"  Rows: {row_count}\")\n",
    "            # print(f\"  Columns: {len(columns)} - {columns}\")\n",
    "            print(\"-\" * 50)\n",
    "        \n",
    "        except Exception as e:\n",
    "            print(f\"Error processing {filename}: {e}\")\n",
    "            print(\"-\" * 50)\n",
    "\n",
    "analyze_table_sizes(spark)"
   ]
  },
  {
   "cell_type": "code",
   "execution_count": null,
   "id": "4e2e4e11-c2b3-406f-b772-1737ccffb662",
   "metadata": {},
   "outputs": [],
   "source": [
    "# Broadcast small tables\n",
    "medals_broadcast = broadcast(medals)\n",
    "maps_broadcast = broadcast(maps)"
   ]
  },
  {
   "cell_type": "code",
   "execution_count": null,
   "id": "55d6f30f-2d0f-409f-ac8b-ceb479194085",
   "metadata": {},
   "outputs": [],
   "source": [
    "joined_df = match_details.join(matches, \"match_id\", \"inner\") \\\n",
    "    .join(medal_matches_players, \"match_id\", \"inner\") \\\n",
    "    .repartition(16, \"match_id\")"
   ]
  },
  {
   "cell_type": "code",
   "execution_count": null,
   "id": "3adfc668-481a-4c91-95a6-819fb89ea01e",
   "metadata": {},
   "outputs": [],
   "source": [
    "joined_df = match_details.join(matches, \"match_id\", \"inner\") \\\n",
    "    .join(medal_matches_players, [\"match_id\", \"player_gamertag\"], \"inner\") \\\n",
    "    .repartition(16, \"match_id\")"
   ]
  },
  {
   "cell_type": "code",
   "execution_count": null,
   "id": "55817602-2edd-4d43-ae77-dc05dc52c746",
   "metadata": {},
   "outputs": [],
   "source": [
    "# 1. Which player averages the most kills per game?\n",
    "player_kills_avg = match_details.groupBy(\"player_gamertag\") \\\n",
    "    .agg(\n",
    "        avg(\"player_total_kills\").alias(\"avg_kills_per_game\"),\n",
    "        count(\"match_id\").alias(\"total_matches\")\n",
    "    ).orderBy(col(\"avg_kills_per_game\").desc())"
   ]
  },
  {
   "cell_type": "code",
   "execution_count": null,
   "id": "2ae53f70-f70c-4648-84de-91b241b64700",
   "metadata": {},
   "outputs": [],
   "source": [
    "player_kills_avg.toPandas()"
   ]
  },
  {
   "cell_type": "code",
   "execution_count": null,
   "id": "701a249c-21ff-4e83-b7fc-a7ef29fd4a32",
   "metadata": {},
   "outputs": [],
   "source": [
    "# 2. Which playlist gets played the most?\n",
    "playlist_popularity = matches.groupBy(\"playlist_id\") \\\n",
    "    .agg(count(\"match_id\").alias(\"match_count\")) \\\n",
    "    .orderBy(col(\"match_count\").desc())"
   ]
  },
  {
   "cell_type": "code",
   "execution_count": null,
   "id": "72d3e41c-976d-455d-be9e-cc02032e6779",
   "metadata": {
    "scrolled": true
   },
   "outputs": [],
   "source": [
    "playlist_popularity.toPandas()"
   ]
  },
  {
   "cell_type": "code",
   "execution_count": null,
   "id": "a2134974-5960-4470-b2cb-a15c38a4c879",
   "metadata": {},
   "outputs": [],
   "source": [
    "# 3. Which map gets played the most?\n",
    "map_popularity = matches.join(maps_broadcast, matches.mapid == maps_broadcast.mapid) \\\n",
    "    .groupBy(maps_broadcast.name) \\\n",
    "    .agg(count(\"match_id\").alias(\"match_count\")) \\\n",
    "    .orderBy(col(\"match_count\").desc())"
   ]
  },
  {
   "cell_type": "code",
   "execution_count": null,
   "id": "ffafbafc-8908-401c-8b1d-545cc028c656",
   "metadata": {
    "scrolled": true
   },
   "outputs": [],
   "source": [
    "map_popularity.toPandas()"
   ]
  },
  {
   "cell_type": "code",
   "execution_count": null,
   "id": "a7fb9582-502e-4cfa-b7ed-608363196e5d",
   "metadata": {},
   "outputs": [],
   "source": [
    "# 4. Which map do players get the most Killing Spree medals on?\n",
    "killing_spree_map = joined_df.join(medals_broadcast, \n",
    "    joined_df.medal_id == medals_broadcast.medal_id) \\\n",
    "    .filter(medals_broadcast.classification == \"KillingSpree\") \\\n",
    "    .join(maps_broadcast, joined_df.mapid == maps_broadcast.mapid) \\\n",
    "    .groupBy(maps_broadcast.name) \\\n",
    "    .agg(\n",
    "        sum(\"count\").alias(\"killing_spree_count\")\n",
    "    ) \\\n",
    "    .orderBy(col(\"killing_spree_count\").desc())"
   ]
  },
  {
   "cell_type": "code",
   "execution_count": null,
   "id": "5944115f-6032-4469-b8fa-c0f19a8132a2",
   "metadata": {},
   "outputs": [],
   "source": [
    "killing_spree_map.toPandas()"
   ]
  },
  {
   "cell_type": "code",
   "execution_count": 5,
   "id": "77d1b726-5cfc-465a-b55d-758bd6eec0e3",
   "metadata": {},
   "outputs": [],
   "source": [
    "def perform_analysis(spark, match_details, matches, medal_matches_players, medals, maps):\n",
    "    # Broadcast small tables\n",
    "    medals_broadcast = broadcast(medals)\n",
    "    maps_broadcast = broadcast(maps)\n",
    "\n",
    "    joined_df = match_details.join(matches, \"match_id\", \"inner\") \\\n",
    "        .join(medal_matches_players, [\"match_id\", \"player_gamertag\"], \"inner\") \\\n",
    "        .repartition(16, \"match_id\")\n",
    "\n",
    "    # 1. Which player averages the most kills per game?\n",
    "    player_kills_avg = joined_df.groupBy(\"player_gamertag\") \\\n",
    "        .agg(\n",
    "            avg(\"player_total_kills\").alias(\"avg_kills_per_game\"),\n",
    "            count(\"match_id\").alias(\"total_matches\")\n",
    "        ).orderBy(col(\"avg_kills_per_game\").desc())\n",
    "\n",
    "    # 2. Which playlist gets played the most?\n",
    "    playlist_popularity = joined_df.groupBy(\"playlist_id\") \\\n",
    "        .agg(count(\"match_id\").alias(\"match_count\")) \\\n",
    "        .orderBy(col(\"match_count\").desc())\n",
    "\n",
    "    # 3. Which map gets played the most?\n",
    "    map_popularity = joined_df.join(maps_broadcast, matches.mapid == maps_broadcast.mapid) \\\n",
    "        .groupBy(maps_broadcast.name) \\\n",
    "        .agg(count(\"match_id\").alias(\"match_count\")) \\\n",
    "        .orderBy(col(\"match_count\").desc())\n",
    "\n",
    "    # 4. Which map do players get the most Killing Spree medals on?\n",
    "    killing_spree_map = joined_df.join(medals_broadcast, \n",
    "        joined_df.medal_id == medals_broadcast.medal_id) \\\n",
    "        .filter(medals_broadcast.classification == \"KillingSpree\") \\\n",
    "        .join(maps_broadcast, joined_df.mapid == maps_broadcast.mapid) \\\n",
    "        .groupBy(maps_broadcast.name) \\\n",
    "        .agg(\n",
    "            sum(\"count\").alias(\"killing_spree_count\")\n",
    "        ) \\\n",
    "        .orderBy(col(\"killing_spree_count\").desc())\n",
    "\n",
    "    return player_kills_avg, playlist_popularity, map_popularity, killing_spree_map"
   ]
  },
  {
   "cell_type": "code",
   "execution_count": 6,
   "id": "a1564a8c-8606-496a-9f18-b749ac7a9884",
   "metadata": {},
   "outputs": [],
   "source": [
    "# Load data\n",
    "match_details, matches, medal_matches_players, medals, maps = load_data(spark)\n",
    "\n",
    "player_kills_avg, playlist_popularity, map_popularity, killing_spree_map = perform_analysis(\n",
    "    spark, match_details, matches, medal_matches_players, medals, maps\n",
    ")"
   ]
  },
  {
   "cell_type": "code",
   "execution_count": null,
   "id": "53a615db-723b-43cb-a714-0fe90b64da7c",
   "metadata": {},
   "outputs": [],
   "source": [
    "def check_dataframe_cardinalities(player_kills_avg, playlist_popularity, map_popularity, killing_spree_map):\n",
    "    from pyspark.sql.functions import countDistinct, col\n",
    "    \n",
    "    print(\"Cardinality Analysis:\")\n",
    "    print(\"-\" * 50)\n",
    "    \n",
    "    # Player Kills Average\n",
    "    print(\"1. Player Kills Average:\")\n",
    "    print(f\"Total rows: {player_kills_avg.count()}\")\n",
    "    print(f\"Unique player gamertags: {player_kills_avg.select(countDistinct('player_gamertag')).first()[0]}\")\n",
    "    print(\"Top 5 rows:\")\n",
    "    player_kills_avg.show(5)\n",
    "    print(\"\\n\")\n",
    "    \n",
    "    # Playlist Popularity\n",
    "    print(\"2. Playlist Popularity:\")\n",
    "    print(f\"Total rows: {playlist_popularity.count()}\")\n",
    "    print(f\"Unique playlist IDs: {playlist_popularity.select(countDistinct('playlist_id')).first()[0]}\")\n",
    "    print(\"Top 5 rows:\")\n",
    "    playlist_popularity.show(5)\n",
    "    print(\"\\n\")\n",
    "    \n",
    "    # Map Popularity\n",
    "    print(\"3. Map Popularity:\")\n",
    "    print(f\"Total rows: {map_popularity.count()}\")\n",
    "    print(f\"Unique map names: {map_popularity.select(countDistinct('name')).first()[0]}\")\n",
    "    print(\"Top 5 rows:\")\n",
    "    map_popularity.show(5)\n",
    "    print(\"\\n\")\n",
    "    \n",
    "    # Killing Spree Map\n",
    "    print(\"4. Killing Spree Map:\")\n",
    "    print(f\"Total rows: {killing_spree_map.count()}\")\n",
    "    print(f\"Unique map names: {killing_spree_map.select(countDistinct('name')).first()[0]}\")\n",
    "    print(\"Top 5 rows:\")\n",
    "    killing_spree_map.show(5)\n",
    "\n",
    "    \n",
    "# Check cardinalities\n",
    "check_dataframe_cardinalities(\n",
    "    player_kills_avg, \n",
    "    playlist_popularity, \n",
    "    map_popularity, \n",
    "    killing_spree_map\n",
    ")"
   ]
  },
  {
   "cell_type": "code",
   "execution_count": null,
   "id": "6e7b56c9-7f6e-48e0-a1ea-da6f83aa50e6",
   "metadata": {},
   "outputs": [],
   "source": [
    "# Experiment with sortWithinPartitions\n",
    "# High cardinality (almost 1:1 ratio); NOT recommended for sort\n",
    "player_kills_avg.sortWithinPartitions(\"player_gamertag\")\n",
    "# playlist_id is low cardinality\n",
    "playlist_popularity.sortWithinPartitions(\"playlist_id\")\n",
    "# map name is low cardinality\n",
    "map_popularity.sortWithinPartitions(\"name\")\n",
    "# same\n",
    "killing_spree_map.sortWithinPartitions(\"name\")"
   ]
  },
  {
   "cell_type": "code",
   "execution_count": null,
   "id": "26d8618c-5320-46f7-84f6-273e803d5d4e",
   "metadata": {},
   "outputs": [],
   "source": [
    "%%sql\n",
    "\n",
    "CREATE DATABASE IF NOT EXISTS bootcamp"
   ]
  },
  {
   "cell_type": "code",
   "execution_count": null,
   "id": "68873b34-dedb-4d96-a8d8-1c0aac8ea5f0",
   "metadata": {},
   "outputs": [],
   "source": [
    "%%sql\n",
    "\n",
    "DROP TABLE IF EXISTS bootcamp.player_kills_avg;"
   ]
  },
  {
   "cell_type": "code",
   "execution_count": null,
   "id": "f05dbea0-ea14-45b2-9bd8-7e822ba020de",
   "metadata": {},
   "outputs": [],
   "source": [
    "playlist_popularity.writeTo(\"bootcamp.playlist_popularity\") \\\n",
    "    .partitionedBy(\"playlist_id\") \\\n",
    "    .create()"
   ]
  },
  {
   "cell_type": "code",
   "execution_count": null,
   "id": "631e5874-86a8-4bd2-8afe-f206894a9fd7",
   "metadata": {},
   "outputs": [],
   "source": [
    "map_popularity.writeTo(\"bootcamp.map_popularity\") \\\n",
    "    .partitionedBy(\"name\") \\\n",
    "    .create()"
   ]
  },
  {
   "cell_type": "code",
   "execution_count": 14,
   "id": "fd0a0a23",
   "metadata": {},
   "outputs": [
    {
     "name": "stderr",
     "output_type": "stream",
     "text": [
      "                                                                                \r"
     ]
    }
   ],
   "source": [
    "player_kills_avg.writeTo(\"bootcamp.player_kills_avg\") \\\n",
    "    .create()"
   ]
  },
  {
   "cell_type": "code",
   "execution_count": null,
   "id": "1c090337",
   "metadata": {},
   "outputs": [],
   "source": [
    "killing_spree_map.writeTo(\"bootcamp.killing_spree_map\") \\\n",
    "    .partitionedBy(\"name\") \\\n",
    "    .create()"
   ]
  },
  {
   "cell_type": "code",
   "execution_count": null,
   "id": "f45bc370-f69f-4ba3-9a81-cd6b03e3ecdb",
   "metadata": {},
   "outputs": [],
   "source": [
    "%%sql\n",
    "\n",
    "select * from bootcamp.killing_spree_map;"
   ]
  },
  {
   "cell_type": "code",
   "execution_count": 16,
   "id": "4cd5a729",
   "metadata": {},
   "outputs": [
    {
     "data": {
      "text/plain": [
       "66061"
      ]
     },
     "execution_count": 16,
     "metadata": {},
     "output_type": "execute_result"
    }
   ],
   "source": [
    "player_kills_avg.count()"
   ]
  },
  {
   "cell_type": "code",
   "execution_count": null,
   "id": "5871f3b9",
   "metadata": {},
   "outputs": [],
   "source": []
  }
 ],
 "metadata": {
  "kernelspec": {
   "display_name": "Python 3 (ipykernel)",
   "language": "python",
   "name": "python3"
  },
  "language_info": {
   "codemirror_mode": {
    "name": "ipython",
    "version": 3
   },
   "file_extension": ".py",
   "mimetype": "text/x-python",
   "name": "python",
   "nbconvert_exporter": "python",
   "pygments_lexer": "ipython3",
   "version": "3.9.18"
  }
 },
 "nbformat": 4,
 "nbformat_minor": 5
}
